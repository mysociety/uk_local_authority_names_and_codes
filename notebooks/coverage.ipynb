{
 "cells": [
  {
   "cell_type": "code",
   "execution_count": 1,
   "metadata": {},
   "outputs": [],
   "source": [
    "from data_common.notebook import *"
   ]
  },
  {
   "cell_type": "markdown",
   "metadata": {},
   "source": [
    "# Dataset analysis"
   ]
  },
  {
   "cell_type": "markdown",
   "metadata": {},
   "source": [
    "## Counts by authority"
   ]
  },
  {
   "cell_type": "code",
   "execution_count": 2,
   "metadata": {},
   "outputs": [
    {
     "data": {
      "text/html": [
       "<style type=\"text/css\">\n",
       "</style>\n",
       "<table id=\"T_bbef6\">\n",
       "  <thead>\n",
       "    <tr>\n",
       "      <th id=\"T_bbef6_level0_col0\" class=\"col_heading level0 col0\" >Authority type</th>\n",
       "      <th id=\"T_bbef6_level0_col1\" class=\"col_heading level0 col1\" >Current authorities</th>\n",
       "      <th id=\"T_bbef6_level0_col2\" class=\"col_heading level0 col2\" >Former authorities</th>\n",
       "    </tr>\n",
       "  </thead>\n",
       "  <tbody>\n",
       "    <tr>\n",
       "      <td id=\"T_bbef6_row0_col0\" class=\"data row0 col0\" >City corporation</td>\n",
       "      <td id=\"T_bbef6_row0_col1\" class=\"data row0 col1\" >1</td>\n",
       "      <td id=\"T_bbef6_row0_col2\" class=\"data row0 col2\" >0</td>\n",
       "    </tr>\n",
       "    <tr>\n",
       "      <td id=\"T_bbef6_row1_col0\" class=\"data row1 col0\" >Combined authority</td>\n",
       "      <td id=\"T_bbef6_row1_col1\" class=\"data row1 col1\" >10</td>\n",
       "      <td id=\"T_bbef6_row1_col2\" class=\"data row1 col2\" >0</td>\n",
       "    </tr>\n",
       "    <tr>\n",
       "      <td id=\"T_bbef6_row2_col0\" class=\"data row2 col0\" >County</td>\n",
       "      <td id=\"T_bbef6_row2_col1\" class=\"data row2 col1\" >24</td>\n",
       "      <td id=\"T_bbef6_row2_col2\" class=\"data row2 col2\" >3</td>\n",
       "    </tr>\n",
       "    <tr>\n",
       "      <td id=\"T_bbef6_row3_col0\" class=\"data row3 col0\" >London borough</td>\n",
       "      <td id=\"T_bbef6_row3_col1\" class=\"data row3 col1\" >32</td>\n",
       "      <td id=\"T_bbef6_row3_col2\" class=\"data row3 col2\" >0</td>\n",
       "    </tr>\n",
       "    <tr>\n",
       "      <td id=\"T_bbef6_row4_col0\" class=\"data row4 col0\" >Metropolitan district</td>\n",
       "      <td id=\"T_bbef6_row4_col1\" class=\"data row4 col1\" >36</td>\n",
       "      <td id=\"T_bbef6_row4_col2\" class=\"data row4 col2\" >0</td>\n",
       "    </tr>\n",
       "    <tr>\n",
       "      <td id=\"T_bbef6_row5_col0\" class=\"data row5 col0\" >NI district</td>\n",
       "      <td id=\"T_bbef6_row5_col1\" class=\"data row5 col1\" >11</td>\n",
       "      <td id=\"T_bbef6_row5_col2\" class=\"data row5 col2\" >25</td>\n",
       "    </tr>\n",
       "    <tr>\n",
       "      <td id=\"T_bbef6_row6_col0\" class=\"data row6 col0\" >Non-metropolitan district</td>\n",
       "      <td id=\"T_bbef6_row6_col1\" class=\"data row6 col1\" >181</td>\n",
       "      <td id=\"T_bbef6_row6_col2\" class=\"data row6 col2\" >23</td>\n",
       "    </tr>\n",
       "    <tr>\n",
       "      <td id=\"T_bbef6_row7_col0\" class=\"data row7 col0\" >Scottish unitary authority</td>\n",
       "      <td id=\"T_bbef6_row7_col1\" class=\"data row7 col1\" >32</td>\n",
       "      <td id=\"T_bbef6_row7_col2\" class=\"data row7 col2\" >0</td>\n",
       "    </tr>\n",
       "    <tr>\n",
       "      <td id=\"T_bbef6_row8_col0\" class=\"data row8 col0\" >Strategic Regional Authority</td>\n",
       "      <td id=\"T_bbef6_row8_col1\" class=\"data row8 col1\" >1</td>\n",
       "      <td id=\"T_bbef6_row8_col2\" class=\"data row8 col2\" >0</td>\n",
       "    </tr>\n",
       "    <tr>\n",
       "      <td id=\"T_bbef6_row9_col0\" class=\"data row9 col0\" >Unitary authority</td>\n",
       "      <td id=\"T_bbef6_row9_col1\" class=\"data row9 col1\" >59</td>\n",
       "      <td id=\"T_bbef6_row9_col2\" class=\"data row9 col2\" >2</td>\n",
       "    </tr>\n",
       "    <tr>\n",
       "      <td id=\"T_bbef6_row10_col0\" class=\"data row10 col0\" >Welsh unitary authority</td>\n",
       "      <td id=\"T_bbef6_row10_col1\" class=\"data row10 col1\" >22</td>\n",
       "      <td id=\"T_bbef6_row10_col2\" class=\"data row10 col2\" >0</td>\n",
       "    </tr>\n",
       "  </tbody>\n",
       "</table>\n"
      ],
      "text/plain": [
       "<pandas.io.formats.style.Styler at 0x7f51ed7a4bb0>"
      ]
     },
     "execution_count": 2,
     "metadata": {},
     "output_type": "execute_result"
    }
   ],
   "source": [
    "df = pd.read_csv(Path(\"data\", \"uk_local_authorities.csv\"))\n",
    "df[\"modern\"] = (\n",
    "    df[\"end-date\"]\n",
    "    .isna()\n",
    "    .map({True: \"Current authorities\", False: \"Former authorities\"})\n",
    ")\n",
    "\n",
    "(\n",
    "    df.pivot_table(\n",
    "        \"local-authority-code\",\n",
    "        index=\"local-authority-type-name\",\n",
    "        columns=\"modern\",\n",
    "        aggfunc=\"count\",\n",
    "    )\n",
    "    .reset_index()\n",
    "    .rename(\n",
    "        columns={\n",
    "            \"local-authority-code\": \"Count\",\n",
    "            \"local-authority-type-name\": \"Authority type\",\n",
    "        }\n",
    "    )\n",
    "    .fillna(0)\n",
    "    .style.format({\"Current authorities\": int, \"Former authorities\": int})\n",
    "    .hide(axis=\"index\")\n",
    ")"
   ]
  },
  {
   "cell_type": "markdown",
   "metadata": {},
   "source": [
    "## Unitary/lower tier and total counts"
   ]
  },
  {
   "cell_type": "code",
   "execution_count": 3,
   "metadata": {},
   "outputs": [
    {
     "data": {
      "text/html": [
       "<style type=\"text/css\">\n",
       "</style>\n",
       "<table id=\"T_c6e77\">\n",
       "  <thead>\n",
       "    <tr>\n",
       "      <th id=\"T_c6e77_level0_col0\" class=\"col_heading level0 col0\" >Lower or unitary?</th>\n",
       "      <th id=\"T_c6e77_level0_col1\" class=\"col_heading level0 col1\" >Count</th>\n",
       "    </tr>\n",
       "  </thead>\n",
       "  <tbody>\n",
       "    <tr>\n",
       "      <td id=\"T_c6e77_row0_col0\" class=\"data row0 col0\" >No</td>\n",
       "      <td id=\"T_c6e77_row0_col1\" class=\"data row0 col1\" >35</td>\n",
       "    </tr>\n",
       "    <tr>\n",
       "      <td id=\"T_c6e77_row1_col0\" class=\"data row1 col0\" >Yes</td>\n",
       "      <td id=\"T_c6e77_row1_col1\" class=\"data row1 col1\" >374</td>\n",
       "    </tr>\n",
       "    <tr>\n",
       "      <td id=\"T_c6e77_row2_col0\" class=\"data row2 col0\" >All</td>\n",
       "      <td id=\"T_c6e77_row2_col1\" class=\"data row2 col1\" >409</td>\n",
       "    </tr>\n",
       "  </tbody>\n",
       "</table>\n"
      ],
      "text/plain": [
       "<pandas.io.formats.style.Styler at 0x7f51ba5183d0>"
      ]
     },
     "execution_count": 3,
     "metadata": {},
     "output_type": "execute_result"
    }
   ],
   "source": [
    "df = pd.read_csv(Path(\"data\", \"uk_local_authorities.csv\"))\n",
    "df = df[df[\"current-authority\"]]\n",
    "\n",
    "df[\"lower-or-unitary\"] = df[\"lower-or-unitary\"].map({True: \"Yes\", False: \"No\"})\n",
    "\n",
    "df = (\n",
    "    df.pivot_table(\"local-authority-code\", index=\"lower-or-unitary\", aggfunc=\"count\")\n",
    "    .reset_index()\n",
    "    .rename(\n",
    "        columns={\n",
    "            \"local-authority-code\": \"Count\",\n",
    "            \"lower-or-unitary\": \"Lower or unitary?\",\n",
    "        }\n",
    "    )\n",
    "    .fillna(0)\n",
    ")\n",
    "\n",
    "summary_row = pd.DataFrame(\n",
    "    {\"Lower or unitary?\": \"All\", \"Count\": df[\"Count\"].sum()}, index=[50]\n",
    ")\n",
    "\n",
    "df = pd.concat([df, summary_row])\n",
    "df.style.hide(axis=\"index\")"
   ]
  },
  {
   "cell_type": "markdown",
   "metadata": {},
   "source": [
    "## Incomplete lookups\n",
    "\n",
    "This are optional columns, and not entirely populated."
   ]
  },
  {
   "cell_type": "code",
   "execution_count": 4,
   "metadata": {},
   "outputs": [
    {
     "data": {
      "text/html": [
       "<style type=\"text/css\">\n",
       "</style>\n",
       "<table id=\"T_59029\">\n",
       "  <thead>\n",
       "    <tr>\n",
       "      <th id=\"T_59029_level0_col0\" class=\"col_heading level0 col0\" >column</th>\n",
       "      <th id=\"T_59029_level0_col1\" class=\"col_heading level0 col1\" >complete</th>\n",
       "      <th id=\"T_59029_level0_col2\" class=\"col_heading level0 col2\" >%</th>\n",
       "    </tr>\n",
       "  </thead>\n",
       "  <tbody>\n",
       "    <tr>\n",
       "      <td id=\"T_59029_row0_col0\" class=\"data row0 col0\" >BS-6879</td>\n",
       "      <td id=\"T_59029_row0_col1\" class=\"data row0 col1\" >407</td>\n",
       "      <td id=\"T_59029_row0_col2\" class=\"data row0 col2\" >99.5%</td>\n",
       "    </tr>\n",
       "    <tr>\n",
       "      <td id=\"T_59029_row1_col0\" class=\"data row1 col0\" >wdtk-id</td>\n",
       "      <td id=\"T_59029_row1_col1\" class=\"data row1 col1\" >407</td>\n",
       "      <td id=\"T_59029_row1_col2\" class=\"data row1 col2\" >99.5%</td>\n",
       "    </tr>\n",
       "    <tr>\n",
       "      <td id=\"T_59029_row2_col0\" class=\"data row2 col0\" >x</td>\n",
       "      <td id=\"T_59029_row2_col1\" class=\"data row2 col1\" >406</td>\n",
       "      <td id=\"T_59029_row2_col2\" class=\"data row2 col2\" >99.3%</td>\n",
       "    </tr>\n",
       "    <tr>\n",
       "      <td id=\"T_59029_row3_col0\" class=\"data row3 col0\" >y</td>\n",
       "      <td id=\"T_59029_row3_col1\" class=\"data row3 col1\" >406</td>\n",
       "      <td id=\"T_59029_row3_col2\" class=\"data row3 col2\" >99.3%</td>\n",
       "    </tr>\n",
       "    <tr>\n",
       "      <td id=\"T_59029_row4_col0\" class=\"data row4 col0\" >long</td>\n",
       "      <td id=\"T_59029_row4_col1\" class=\"data row4 col1\" >406</td>\n",
       "      <td id=\"T_59029_row4_col2\" class=\"data row4 col2\" >99.3%</td>\n",
       "    </tr>\n",
       "    <tr>\n",
       "      <td id=\"T_59029_row5_col0\" class=\"data row5 col0\" >lat</td>\n",
       "      <td id=\"T_59029_row5_col1\" class=\"data row5 col1\" >406</td>\n",
       "      <td id=\"T_59029_row5_col2\" class=\"data row5 col2\" >99.3%</td>\n",
       "    </tr>\n",
       "    <tr>\n",
       "      <td id=\"T_59029_row6_col0\" class=\"data row6 col0\" >old-register-and-code</td>\n",
       "      <td id=\"T_59029_row6_col1\" class=\"data row6 col1\" >404</td>\n",
       "      <td id=\"T_59029_row6_col2\" class=\"data row6 col2\" >98.8%</td>\n",
       "    </tr>\n",
       "    <tr>\n",
       "      <td id=\"T_59029_row7_col0\" class=\"data row7 col0\" >open-council-data-id</td>\n",
       "      <td id=\"T_59029_row7_col1\" class=\"data row7 col1\" >393</td>\n",
       "      <td id=\"T_59029_row7_col2\" class=\"data row7 col2\" >96.1%</td>\n",
       "    </tr>\n",
       "    <tr>\n",
       "      <td id=\"T_59029_row8_col0\" class=\"data row8 col0\" >gov-uk-slug</td>\n",
       "      <td id=\"T_59029_row8_col1\" class=\"data row8 col1\" >390</td>\n",
       "      <td id=\"T_59029_row8_col2\" class=\"data row8 col2\" >95.4%</td>\n",
       "    </tr>\n",
       "    <tr>\n",
       "      <td id=\"T_59029_row9_col0\" class=\"data row9 col0\" >os</td>\n",
       "      <td id=\"T_59029_row9_col1\" class=\"data row9 col1\" >380</td>\n",
       "      <td id=\"T_59029_row9_col2\" class=\"data row9 col2\" >92.9%</td>\n",
       "    </tr>\n",
       "    <tr>\n",
       "      <td id=\"T_59029_row10_col0\" class=\"data row10 col0\" >snac</td>\n",
       "      <td id=\"T_59029_row10_col1\" class=\"data row10 col1\" >380</td>\n",
       "      <td id=\"T_59029_row10_col2\" class=\"data row10 col2\" >92.9%</td>\n",
       "    </tr>\n",
       "    <tr>\n",
       "      <td id=\"T_59029_row11_col0\" class=\"data row11 col0\" >mapit-area-code</td>\n",
       "      <td id=\"T_59029_row11_col1\" class=\"data row11 col1\" >330</td>\n",
       "      <td id=\"T_59029_row11_col2\" class=\"data row11 col2\" >80.7%</td>\n",
       "    </tr>\n",
       "    <tr>\n",
       "      <td id=\"T_59029_row12_col0\" class=\"data row12 col0\" >ecode</td>\n",
       "      <td id=\"T_59029_row12_col1\" class=\"data row12 col1\" >326</td>\n",
       "      <td id=\"T_59029_row12_col2\" class=\"data row12 col2\" >79.7%</td>\n",
       "    </tr>\n",
       "    <tr>\n",
       "      <td id=\"T_59029_row13_col0\" class=\"data row13 col0\" >old-ons-la-code</td>\n",
       "      <td id=\"T_59029_row13_col1\" class=\"data row13 col1\" >326</td>\n",
       "      <td id=\"T_59029_row13_col2\" class=\"data row13 col2\" >79.7%</td>\n",
       "    </tr>\n",
       "    <tr>\n",
       "      <td id=\"T_59029_row14_col0\" class=\"data row14 col0\" >ofcom</td>\n",
       "      <td id=\"T_59029_row14_col1\" class=\"data row14 col1\" >178</td>\n",
       "      <td id=\"T_59029_row14_col2\" class=\"data row14 col2\" >43.5%</td>\n",
       "    </tr>\n",
       "    <tr>\n",
       "      <td id=\"T_59029_row15_col0\" class=\"data row15 col0\" >os-file</td>\n",
       "      <td id=\"T_59029_row15_col1\" class=\"data row15 col1\" >170</td>\n",
       "      <td id=\"T_59029_row15_col2\" class=\"data row15 col2\" >41.6%</td>\n",
       "    </tr>\n",
       "    <tr>\n",
       "      <td id=\"T_59029_row16_col0\" class=\"data row16 col0\" >even-older-register-and-code</td>\n",
       "      <td id=\"T_59029_row16_col1\" class=\"data row16 col1\" >22</td>\n",
       "      <td id=\"T_59029_row16_col2\" class=\"data row16 col2\" >5.4%</td>\n",
       "    </tr>\n",
       "  </tbody>\n",
       "</table>\n"
      ],
      "text/plain": [
       "<pandas.io.formats.style.Styler at 0x7f51ba48a740>"
      ]
     },
     "execution_count": 4,
     "metadata": {},
     "output_type": "execute_result"
    }
   ],
   "source": [
    "df = pd.read_csv(Path(\"data\", \"uk_local_authorities.csv\"))\n",
    "df = df[df[\"current-authority\"]]\n",
    "items = []\n",
    "\n",
    "cols = list(df.columns)\n",
    "cols = cols[cols.index(\"BS-6879\") :]\n",
    "\n",
    "\n",
    "for c in cols:\n",
    "    count = (~df[c].isna()).sum()\n",
    "    items.append({\"column\": c, \"complete\": count})\n",
    "\n",
    "pt = pd.DataFrame(items).sort_values(\"complete\", ascending=False)\n",
    "pt[\"%\"] = pt[\"complete\"] / len(df)\n",
    "pt = pt[pt[\"%\"] < 1]\n",
    "pt.style.format({\"%\": \"{:.1%}\".format}).hide(axis=\"index\")"
   ]
  }
 ],
 "metadata": {
  "interpreter": {
   "hash": "949777d72b0d2535278d3dc13498b2535136f6dfe0678499012e853ee9abcab1"
  },
  "kernelspec": {
   "display_name": "Python 3.8.12 64-bit",
   "language": "python",
   "name": "python3"
  },
  "language_info": {
   "codemirror_mode": {
    "name": "ipython",
    "version": 3
   },
   "file_extension": ".py",
   "mimetype": "text/x-python",
   "name": "python",
   "nbconvert_exporter": "python",
   "pygments_lexer": "ipython3",
   "version": "3.10.5"
  },
  "orig_nbformat": 4
 },
 "nbformat": 4,
 "nbformat_minor": 2
}
