{
 "cells": [
  {
   "cell_type": "code",
   "execution_count": 1,
   "metadata": {},
   "outputs": [],
   "source": [
    "from data_common.notebook import *"
   ]
  },
  {
   "cell_type": "code",
   "execution_count": 21,
   "metadata": {},
   "outputs": [
    {
     "data": {
      "text/plain": [
       "['nation',\n",
       " 'local-authority-type',\n",
       " 'local-authority-type-name',\n",
       " 'current-authority',\n",
       " 'powers',\n",
       " 'lower_or_unitary']"
      ]
     },
     "execution_count": 21,
     "metadata": {},
     "output_type": "execute_result"
    }
   ],
   "source": [
    "df = pd.read_csv(Path(\"data\", \"uk_local_authorities.csv\"))\n",
    "\n",
    "cols = df.apply(lambda x: x.nunique() < 15 and not x.isnull().any())\n",
    "df.columns.to_series()[cols].to_list()"
   ]
  },
  {
   "cell_type": "code",
   "execution_count": 11,
   "metadata": {},
   "outputs": [
    {
     "data": {
      "text/plain": [
       "local-authority-code            False\n",
       "official-name                   False\n",
       "nice-name                       False\n",
       "gss-code                         True\n",
       "start-date                       True\n",
       "end-date                         True\n",
       "replaced-by                      True\n",
       "nation                          False\n",
       "region                           True\n",
       "local-authority-type            False\n",
       "local-authority-type-name       False\n",
       "county-la                        True\n",
       "combined-authority               True\n",
       "alt-names                       False\n",
       "former-gss-codes                 True\n",
       "notes                            True\n",
       "current-authority               False\n",
       "BS-6879                          True\n",
       "ecode                            True\n",
       "even-older-register-and-code     True\n",
       "gov-uk-slug                      True\n",
       "area                             True\n",
       "pop-2020                         True\n",
       "x                                True\n",
       "y                                True\n",
       "long                             True\n",
       "lat                              True\n",
       "powers                          False\n",
       "lower_or_unitary                False\n",
       "mapit-area-code                  True\n",
       "ofcom                            True\n",
       "old-ons-la-code                  True\n",
       "old-register-and-code            True\n",
       "open-council-data-id             True\n",
       "os-file                          True\n",
       "os                               True\n",
       "snac                             True\n",
       "wdtk-id                          True\n",
       "dtype: bool"
      ]
     },
     "execution_count": 11,
     "metadata": {},
     "output_type": "execute_result"
    }
   ],
   "source": []
  }
 ],
 "metadata": {
  "kernelspec": {
   "display_name": "Python 3.10.5 64-bit",
   "language": "python",
   "name": "python3"
  },
  "language_info": {
   "codemirror_mode": {
    "name": "ipython",
    "version": 3
   },
   "file_extension": ".py",
   "mimetype": "text/x-python",
   "name": "python",
   "nbconvert_exporter": "python",
   "pygments_lexer": "ipython3",
   "version": "3.10.5"
  },
  "orig_nbformat": 4,
  "vscode": {
   "interpreter": {
    "hash": "949777d72b0d2535278d3dc13498b2535136f6dfe0678499012e853ee9abcab1"
   }
  }
 },
 "nbformat": 4,
 "nbformat_minor": 2
}
