{
 "cells": [
  {
   "cell_type": "code",
   "execution_count": 2,
   "metadata": {},
   "outputs": [],
   "source": [
    "# This notebook calcualtes some rough figures for the location, area and pop of new 2023 authorities\n",
    "# x and y, long and lat not the center (are the average of previous centers)\n",
    "\n",
    "import pandas as pd\n",
    "from pathlib import Path\n",
    "\n",
    "df = pd.read_csv(\n",
    "    Path(\"..\", \"data\", \"packages\", \"uk_la_future\", \"uk_local_authorities_future.csv\")\n",
    ")\n"
   ]
  },
  {
   "cell_type": "code",
   "execution_count": 3,
   "metadata": {},
   "outputs": [
    {
     "data": {
      "text/html": [
       "<div>\n",
       "<style scoped>\n",
       "    .dataframe tbody tr th:only-of-type {\n",
       "        vertical-align: middle;\n",
       "    }\n",
       "\n",
       "    .dataframe tbody tr th {\n",
       "        vertical-align: top;\n",
       "    }\n",
       "\n",
       "    .dataframe thead th {\n",
       "        text-align: right;\n",
       "    }\n",
       "</style>\n",
       "<table border=\"1\" class=\"dataframe\">\n",
       "  <thead>\n",
       "    <tr style=\"text-align: right;\">\n",
       "      <th></th>\n",
       "      <th>local-authority-code</th>\n",
       "    </tr>\n",
       "    <tr>\n",
       "      <th>local-authority-type-name</th>\n",
       "      <th></th>\n",
       "    </tr>\n",
       "  </thead>\n",
       "  <tbody>\n",
       "    <tr>\n",
       "      <th>Non-metropolitan district</th>\n",
       "      <td>17</td>\n",
       "    </tr>\n",
       "  </tbody>\n",
       "</table>\n",
       "</div>"
      ],
      "text/plain": [
       "                           local-authority-code\n",
       "local-authority-type-name                      \n",
       "Non-metropolitan district                    17"
      ]
     },
     "execution_count": 3,
     "metadata": {},
     "output_type": "execute_result"
    }
   ],
   "source": [
    "d = df[(df[\"end-date\"] == \"2023-04-01\") & (df[\"local-authority-type\"] != \"CTY\")]\n",
    "\n",
    "\n",
    "# get count by local-authority-type-name\n",
    "d.pivot_table(\n",
    "    index=\"local-authority-type-name\",\n",
    "    values=\"local-authority-code\",\n",
    "    aggfunc=\"count\",\n",
    ")\n"
   ]
  },
  {
   "cell_type": "code",
   "execution_count": 4,
   "metadata": {},
   "outputs": [
    {
     "data": {
      "text/html": [
       "<div>\n",
       "<style scoped>\n",
       "    .dataframe tbody tr th:only-of-type {\n",
       "        vertical-align: middle;\n",
       "    }\n",
       "\n",
       "    .dataframe tbody tr th {\n",
       "        vertical-align: top;\n",
       "    }\n",
       "\n",
       "    .dataframe thead th {\n",
       "        text-align: right;\n",
       "    }\n",
       "</style>\n",
       "<table border=\"1\" class=\"dataframe\">\n",
       "  <thead>\n",
       "    <tr style=\"text-align: right;\">\n",
       "      <th></th>\n",
       "      <th>area</th>\n",
       "      <th>lat</th>\n",
       "      <th>long</th>\n",
       "      <th>pop-2020</th>\n",
       "      <th>x</th>\n",
       "      <th>y</th>\n",
       "    </tr>\n",
       "    <tr>\n",
       "      <th>replaced-by</th>\n",
       "      <th></th>\n",
       "      <th></th>\n",
       "      <th></th>\n",
       "      <th></th>\n",
       "      <th></th>\n",
       "      <th></th>\n",
       "    </tr>\n",
       "  </thead>\n",
       "  <tbody>\n",
       "    <tr>\n",
       "      <th>CBD</th>\n",
       "      <td>3012</td>\n",
       "      <td>-3.143266</td>\n",
       "      <td>54.698623</td>\n",
       "      <td>274396</td>\n",
       "      <td>326336.035376</td>\n",
       "      <td>534360.585454</td>\n",
       "    </tr>\n",
       "    <tr>\n",
       "      <th>NYE</th>\n",
       "      <td>8037</td>\n",
       "      <td>-1.377838</td>\n",
       "      <td>54.165611</td>\n",
       "      <td>620610</td>\n",
       "      <td>440702.843375</td>\n",
       "      <td>474726.283433</td>\n",
       "    </tr>\n",
       "    <tr>\n",
       "      <th>SMT</th>\n",
       "      <td>3450</td>\n",
       "      <td>-2.892495</td>\n",
       "      <td>51.115611</td>\n",
       "      <td>563851</td>\n",
       "      <td>337618.984616</td>\n",
       "      <td>135570.855915</td>\n",
       "    </tr>\n",
       "    <tr>\n",
       "      <th>WAF</th>\n",
       "      <td>3755</td>\n",
       "      <td>-2.894728</td>\n",
       "      <td>54.344011</td>\n",
       "      <td>225385</td>\n",
       "      <td>341859.250420</td>\n",
       "      <td>494670.830120</td>\n",
       "    </tr>\n",
       "  </tbody>\n",
       "</table>\n",
       "</div>"
      ],
      "text/plain": [
       "             area       lat       long  pop-2020              x              y\n",
       "replaced-by                                                                   \n",
       "CBD          3012 -3.143266  54.698623    274396  326336.035376  534360.585454\n",
       "NYE          8037 -1.377838  54.165611    620610  440702.843375  474726.283433\n",
       "SMT          3450 -2.892495  51.115611    563851  337618.984616  135570.855915\n",
       "WAF          3755 -2.894728  54.344011    225385  341859.250420  494670.830120"
      ]
     },
     "execution_count": 4,
     "metadata": {},
     "output_type": "execute_result"
    }
   ],
   "source": [
    "\n",
    "# in a pivot table where replaced-by is the index\n",
    "# I want the sum of area, and pop-2000\n",
    "# I want the average of x and y\n",
    "\n",
    "pt = d.pivot_table(\n",
    "    index=\"replaced-by\",\n",
    "    values=[\"area\", \"pop-2020\", \"x\", \"y\", \"long\", \"lat\"],\n",
    "    aggfunc={\"area\": \"sum\", \"pop-2020\": \"sum\", \"x\": \"mean\", \"y\": \"mean\", \"long\": \"mean\", \"lat\": \"mean\"},\n",
    ")\n",
    "pt[\"area\"] = pt[\"area\"].astype(int)\n",
    "pt[\"pop-2020\"] = pt[\"pop-2020\"].astype(int)\n",
    "pt"
   ]
  },
  {
   "cell_type": "code",
   "execution_count": 5,
   "metadata": {},
   "outputs": [
    {
     "name": "stdout",
     "output_type": "stream",
     "text": [
      "replaced-by,area,pop-2020\n",
      "CBD,3012,274396\n",
      "NYE,8037,620610\n",
      "SMT,3450,563851\n",
      "WAF,3755,225385\n",
      "\n"
     ]
    }
   ],
   "source": [
    "\n",
    "just_area_pop = pt[[\"area\", \"pop-2020\"]]\n",
    "\n",
    "# print as comma seperates values in the notebook without saving a file\n",
    "print(just_area_pop.to_csv(None, index=True))\n",
    "\n",
    "\n"
   ]
  },
  {
   "cell_type": "code",
   "execution_count": 6,
   "metadata": {},
   "outputs": [
    {
     "name": "stdout",
     "output_type": "stream",
     "text": [
      "replaced-by,x,y,long,lat\n",
      "CBD,326336.0353755673,534360.5854541283,54.69862280385885,-3.14326575232159\n",
      "NYE,440702.8433753164,474726.28343334293,54.16561062368424,-1.3778378941997595\n",
      "SMT,337618.9846160223,135570.8559151427,51.115610609784625,-2.892494846753527\n",
      "WAF,341859.2504198118,494670.8301204606,54.34401050125833,-2.8947277204402977\n",
      "\n"
     ]
    }
   ],
   "source": [
    "just_x_y = pt[[\"x\", \"y\", \"long\", \"lat\"]]\n",
    "print(just_x_y.to_csv(None, index=True))"
   ]
  }
 ],
 "metadata": {
  "kernelspec": {
   "display_name": "Python 3",
   "language": "python",
   "name": "python3"
  },
  "language_info": {
   "codemirror_mode": {
    "name": "ipython",
    "version": 3
   },
   "file_extension": ".py",
   "mimetype": "text/x-python",
   "name": "python",
   "nbconvert_exporter": "python",
   "pygments_lexer": "ipython3",
   "version": "3.10.10"
  },
  "orig_nbformat": 4
 },
 "nbformat": 4,
 "nbformat_minor": 2
}
